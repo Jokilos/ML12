{
 "cells": [
  {
   "cell_type": "markdown",
   "metadata": {},
   "source": [
    "# Retrieval Augmented Generation (RAG)\n",
    "\n",
    "\n",
    "\n",
    "![RAG](https://miro.medium.com/v2/resize:fit:1200/0*zMIZgSKLG7uPb7eQ.png \"Retrieval Augmented Generation\")\n",
    "<small> Image source: https://miro.medium.com/v2/resize:fit:1200/0*zMIZgSKLG7uPb7eQ.png </small>\n",
    "\n",
    "In this scenario you are going to build a Retrieval Augmented Generation pipeline for the [question answering task](https://paperswithcode.com/task/question-answering). You will learn:\n",
    "* What are the parts of the RAG pipeline?\n",
    "* How to implement the pipeline using the [dspy](https://github.com/stanfordnlp/dspy) framework?\n",
    "* What can be done to automate the evaluation of your solution?\n",
    "\n",
    "The advent of Large Language Models (LLMs) is a fantastic progress in many well-known NLP tasks. One of such tasks is Question Answering. By and large, in Question Answering the input is a question in natural language and the expected output is the answer to that question.\n",
    "LLMs achieve very good results in zero-shot or few-shot scenarios, i.e., when the model is provided 0 or few annotated examples. However, due to the nature of text generation, LLMs sometimes output confident, but incorrect answers. This phenomenon is called [hallucination](https://arxiv.org/pdf/2311.05232.pdf).\n",
    "One of the ways to reduce model hallucination is to enrich the question with paragrphs of text containing the answer. The model is able to use the paragraph in prompt to output correct answer tailored to the use case needs. This technique is called the [Retrieval Augmented Generation](https://arxiv.org/pdf/2005.11401.pdf).\n",
    "While the technique can be used in the end-to-end training, due to time and resource contraints we are going to focus on the zero-shot variant based on pretrained retriever and generator. This approach is often a very good first candidate in real use cases.\n",
    "\n",
    "This laboratory scenario uses [dspy](https://github.com/stanfordnlp/dspy), a framework by Stanford NLP. Based on the documentation, \"DSPy is a framework for algorithmically optimizing LM prompts and weights, especially when LMs are used one or more times within a pipeline.\" The framework enables rapid development of pipelines based on pretrained models, and has an internal compiler aimed at optimization of itermediate prompts to maximize the desired result. In this laboratory we are going to focus on the construction of the dspy pipelines, but are not going to use the compiler. Please see [here](https://github.com/stanfordnlp/dspy?tab=readme-ov-file#4b-asking-dspy-to-automatically-optimize-your-program-with-dspyteleprompt) if you are interested in automated optimization."
   ]
  },
  {
   "cell_type": "code",
   "execution_count": null,
   "metadata": {},
   "outputs": [],
   "source": [
    "! pip install dspy-ai"
   ]
  },
  {
   "cell_type": "code",
   "execution_count": 1,
   "metadata": {},
   "outputs": [],
   "source": [
    "import json\n",
    "import os\n",
    "from typing import Any, Optional\n",
    "\n",
    "import boto3\n",
    "import numpy as np\n",
    "from dsp.utils import dotdict\n",
    "from dspy import (\n",
    "    Example,\n",
    "    InputField,\n",
    "    Module,\n",
    "    OpenAI,\n",
    "    OutputField,\n",
    "    Predict,\n",
    "    Prediction,\n",
    "    Retrieve,\n",
    "    Signature,\n",
    "    context,\n",
    ")\n",
    "from dspy.datasets import DataLoader\n",
    "from dspy.evaluate import Evaluate\n",
    "from langchain.embeddings import OpenAIEmbeddings\n"
   ]
  },
  {
   "cell_type": "code",
   "execution_count": 2,
   "metadata": {},
   "outputs": [],
   "source": [
    "os.environ[\"OPENAI_API_KEY\"] = \"Your OpenAI API key\""
   ]
  },
  {
   "cell_type": "markdown",
   "metadata": {},
   "source": [
    "# Data"
   ]
  },
  {
   "cell_type": "markdown",
   "metadata": {},
   "source": [
    "We are going to work with the [SQuAD](https://rajpurkar.github.io/SQuAD-explorer/) dataset. To limit the use of resources, only a subset of the 30 questions will be used. \n",
    "\n",
    "For a corpus of context paragraphs from the first 100 questions in the validation split will be used.\n"
   ]
  },
  {
   "cell_type": "code",
   "execution_count": 3,
   "metadata": {},
   "outputs": [],
   "source": [
    "data = DataLoader().from_huggingface(\n",
    "    dataset_name=\"rajpurkar/squad\",\n",
    ")\n",
    "validation = data[\"validation\"][:30]"
   ]
  },
  {
   "cell_type": "code",
   "execution_count": 4,
   "metadata": {},
   "outputs": [],
   "source": [
    "corpus = [example.context for example in data[\"validation\"][:100]]"
   ]
  },
  {
   "cell_type": "markdown",
   "metadata": {},
   "source": [
    "We are going to work in a zero-shot scenario i.e. LLMs will not be trained to answer our questions. The LLM used to answer the question is GPT3.5-turbo.\n",
    "GPT4 will be used during the evaluation."
   ]
  },
  {
   "cell_type": "code",
   "execution_count": 5,
   "metadata": {},
   "outputs": [],
   "source": [
    "gpt35turbo = OpenAI(model='gpt-3.5-turbo-1106', max_tokens=300)\n",
    "gpt4 = OpenAI(model='gpt-4', max_tokens=300)"
   ]
  },
  {
   "cell_type": "markdown",
   "metadata": {},
   "source": [
    "# Simple Question Answering pipeline"
   ]
  },
  {
   "cell_type": "markdown",
   "metadata": {},
   "source": [
    "For reference you are given the implementation of the vanilla question answering pipeline. It will be used as a baseline.\n",
    "The pipeline asks the question to LLM and returns model's answer. The pipeline can be created as a dspy [Signature](https://dspy-docs.vercel.app/docs/deep-dive/signature/understanding-signatures)."
   ]
  },
  {
   "cell_type": "code",
   "execution_count": 6,
   "metadata": {},
   "outputs": [],
   "source": [
    "class VanillaQuestionAnswering(Signature):\n",
    "    \"\"\"Answer questions with short factually correct answers.\"\"\"\n",
    "\n",
    "    question = InputField()\n",
    "    answer = OutputField(desc=\"Answer is often short and educational.\")"
   ]
  },
  {
   "cell_type": "code",
   "execution_count": 7,
   "metadata": {},
   "outputs": [],
   "source": [
    "with context(lm=gpt35turbo):\n",
    "    qa_pipeline = Predict(VanillaQuestionAnswering)\n",
    "    prediction = qa_pipeline(\n",
    "        question=\"Which NFL team represented the AFC at Super Bowl 50?\"\n",
    "    )"
   ]
  },
  {
   "cell_type": "code",
   "execution_count": 8,
   "metadata": {},
   "outputs": [
    {
     "data": {
      "text/plain": [
       "'Denver Broncos.'"
      ]
     },
     "execution_count": 8,
     "metadata": {},
     "output_type": "execute_result"
    }
   ],
   "source": [
    "prediction.answer"
   ]
  },
  {
   "cell_type": "markdown",
   "metadata": {},
   "source": [
    "# Retrieval Augmented Generation (RAG)"
   ]
  },
  {
   "cell_type": "markdown",
   "metadata": {},
   "source": [
    "Your will implement the Retrieval Augmented Generatio pipeline. You can read more about RAG [here](https://blogs.nvidia.com/blog/what-is-retrieval-augmented-generation/).\n",
    "You tasks are:\n",
    "* Implement a custom [Retriever](https://dspy-docs.vercel.app/docs/deep-dive/retrieval_models_clients/custom-rm-client) (follow the interface below).\n",
    "* Implement a a custom [dspy.Module](https://dspy-docs.vercel.app/docs/deep-dive/modules/guide) (follow the interface below)."
   ]
  },
  {
   "cell_type": "code",
   "execution_count": 9,
   "metadata": {},
   "outputs": [],
   "source": [
    "class VanillaRetriever(Retrieve):\n",
    "    def __init__(self, corpus: list[str], k: int = 3):\n",
    "        super().__init__(k=k)\n",
    "        self.corpus = corpus\n",
    "        self.embedder = OpenAIEmbeddings(model=\"text-embedding-3-large\")\n",
    "        self.embeddings = self._normalize_embeddings(\n",
    "            np.array(self.embedder.embed_documents(texts=corpus))\n",
    "        )\n",
    "\n",
    "    def _normalize_embeddings(self, embeddings: np.ndarray) -> np.ndarray:\n",
    "        if len(embeddings.shape) == 1:\n",
    "            embeddings = np.expand_dims(embeddings, axis=0)\n",
    "        return embeddings / np.expand_dims(np.linalg.norm(embeddings, axis=1), axis=1)\n",
    "\n",
    "    def forward(self, query_or_queries: str, k: Optional[int] = None) -> Prediction:\n",
    "        k = k if k is not None else self.k\n",
    "        embedding = self._normalize_embeddings(\n",
    "            np.array(self.embedder.embed_query(query_or_queries))\n",
    "        )\n",
    "\n",
    "        similarity = (self.embeddings @ embedding.T).T\n",
    "        top_k_indices = np.argsort(similarity.ravel())[::-1][:k].tolist()\n",
    "\n",
    "        return Prediction(\n",
    "            passages=[dotdict({\"long_text\": self.corpus[idx]}) for idx in top_k_indices]\n",
    "        )"
   ]
  },
  {
   "cell_type": "code",
   "execution_count": 10,
   "metadata": {},
   "outputs": [
    {
     "name": "stderr",
     "output_type": "stream",
     "text": [
      "/Users/mateusz.dolinski/Projects/ml-teaching/.venv/lib/python3.9/site-packages/langchain_core/_api/deprecation.py:117: LangChainDeprecationWarning: The class `langchain_community.embeddings.openai.OpenAIEmbeddings` was deprecated in langchain-community 0.0.9 and will be removed in 0.2.0. An updated version of the class exists in the langchain-openai package and should be used instead. To use it run `pip install -U langchain-openai` and import as `from langchain_openai import OpenAIEmbeddings`.\n",
      "  warn_deprecated(\n"
     ]
    }
   ],
   "source": [
    "retrieval = VanillaRetriever(corpus=corpus, k=2)"
   ]
  },
  {
   "cell_type": "code",
   "execution_count": 11,
   "metadata": {},
   "outputs": [],
   "source": [
    "class RAGSignature(Signature):\n",
    "    \"\"\"Answer questions with short answers. Output only answer.\"\"\"\n",
    "\n",
    "    context = InputField(desc=\"may contain relevant information.\")\n",
    "    question = InputField(desc=\"User question\")\n",
    "    answer = OutputField(desc=\"answer is often concise and educational.\")"
   ]
  },
  {
   "cell_type": "code",
   "execution_count": 12,
   "metadata": {},
   "outputs": [],
   "source": [
    "class RAG(Module):\n",
    "    def __init__(self, corpus: list[str], num_passages: int) -> None:\n",
    "        super().__init__()\n",
    "\n",
    "        self.retrieve = VanillaRetriever(corpus=corpus, k=num_passages)\n",
    "        self.generate_answer = Predict(RAGSignature)\n",
    "    \n",
    "    def forward(self, question: str, **kwargs: Any) -> Predict:\n",
    "        context = self.retrieve(question).passages\n",
    "        prediction = self.generate_answer(context=context, question=question)\n",
    "        return Prediction(context=context, answer=prediction.answer)"
   ]
  },
  {
   "cell_type": "code",
   "execution_count": 13,
   "metadata": {},
   "outputs": [],
   "source": [
    "with context(lm=gpt35turbo):\n",
    "    rag_pipeline = RAG(corpus=corpus, num_passages=2)\n",
    "    prediction = rag_pipeline(\n",
    "        question=\"Which NFL team represented the AFC at Super Bowl 50?\"\n",
    "    )"
   ]
  },
  {
   "cell_type": "code",
   "execution_count": 14,
   "metadata": {},
   "outputs": [
    {
     "data": {
      "text/plain": [
       "'Denver Broncos'"
      ]
     },
     "execution_count": 14,
     "metadata": {},
     "output_type": "execute_result"
    }
   ],
   "source": [
    "prediction.answer"
   ]
  },
  {
   "cell_type": "markdown",
   "metadata": {},
   "source": [
    "# LLM as a judge"
   ]
  },
  {
   "cell_type": "markdown",
   "metadata": {},
   "source": [
    "Evaluation of tasks based on text generation poses a challenge. One can:\n",
    "* Evaluate manually\n",
    "* Develop automated metrics\n",
    "\n",
    "Recently, the third option emerged:\n",
    "* Ask the LLM to do the evaluation for us!\n",
    "\n",
    "In this section you will implement the LLM as a jude evaluatio of vanilla QA and RAG pipelines. Your tasks are:\n",
    "* Implement the factuality_metric, which asks the LLM to assess if the candidate answer is factually correct (follow the interface below)"
   ]
  },
  {
   "cell_type": "code",
   "execution_count": 15,
   "metadata": {},
   "outputs": [],
   "source": [
    "class LLMJudge(Signature):\n",
    "    \"\"\"Assess the quality of the answer along the specified criterion.\"\"\"\n",
    "\n",
    "    answer = InputField(desc=\"Candidate answer for the question\")\n",
    "    question = InputField(desc=\"Question to be answered\")\n",
    "    golden_answer = InputField(desc=\"The golden correct answer for the question\")\n",
    "    criterion = InputField(desc=\"criterion:\")\n",
    "    judgement = OutputField(\n",
    "        desc=\"Answer Yes or No based on the criterion\",\n",
    "        prefix=\"Yes or No\",\n",
    "    )\n",
    "\n",
    "\n",
    "judge = Predict(LLMJudge)\n",
    "\n",
    "\n",
    "def factuality_metric(example: Example, pred: Prediction) -> int:\n",
    "    factual = (\n",
    "        \"Does the candidate answer to the question contain the golden correct answer?\"\n",
    "    )\n",
    "    assessment = judge(\n",
    "        answer=pred.answer,\n",
    "        question=example.question,\n",
    "        golden_answer=example.golden_answer,\n",
    "        criterion=factual,\n",
    "    )\n",
    "    return int(\"yes\" == assessment.judgement.lower())"
   ]
  },
  {
   "cell_type": "code",
   "execution_count": 16,
   "metadata": {},
   "outputs": [],
   "source": [
    "devset = [\n",
    "    Example(question=e.question, golden_answer=e.answers[\"text\"][0]).with_inputs(\n",
    "        \"question\", \"golden_answer\"\n",
    "    )\n",
    "    for e in validation\n",
    "]"
   ]
  },
  {
   "cell_type": "code",
   "execution_count": 17,
   "metadata": {},
   "outputs": [
    {
     "name": "stderr",
     "output_type": "stream",
     "text": [
      "Average Metric: 29 / 30  (96.7): 100%|██████████| 30/30 [00:15<00:00,  1.98it/s] \n",
      "/Users/mateusz.dolinski/Projects/ml-teaching/.venv/lib/python3.9/site-packages/dspy/evaluate/evaluate.py:187: FutureWarning: DataFrame.applymap has been deprecated. Use DataFrame.map instead.\n",
      "  df = df.applymap(truncate_cell)\n",
      "/Users/mateusz.dolinski/Projects/ml-teaching/.venv/lib/python3.9/site-packages/dspy/evaluate/evaluate.py:263: FutureWarning: Setting an item of incompatible dtype is deprecated and will raise in a future error of pandas. Value '['1' '1' '1' '1' '1' '1' '1' '1' '1' '1' '1' '1' '1' '1' '1' '1' '1' '1'\n",
      " '1' '1' '1' '0' '1' '1' '1' '1' '1' '1' '1' '1']' has dtype incompatible with int64, please explicitly cast to a compatible dtype first.\n",
      "  df.loc[:, metric_name] = df[metric_name].apply(\n"
     ]
    },
    {
     "name": "stdout",
     "output_type": "stream",
     "text": [
      "Average Metric: 29 / 30  (96.7%)\n"
     ]
    },
    {
     "data": {
      "text/html": [
       "<style type=\"text/css\">\n",
       "#T_c03cb th {\n",
       "  text-align: left;\n",
       "}\n",
       "#T_c03cb td {\n",
       "  text-align: left;\n",
       "}\n",
       "#T_c03cb_row0_col0, #T_c03cb_row0_col1, #T_c03cb_row0_col2, #T_c03cb_row0_col3, #T_c03cb_row0_col4, #T_c03cb_row1_col0, #T_c03cb_row1_col1, #T_c03cb_row1_col2, #T_c03cb_row1_col3, #T_c03cb_row1_col4, #T_c03cb_row2_col0, #T_c03cb_row2_col1, #T_c03cb_row2_col2, #T_c03cb_row2_col3, #T_c03cb_row2_col4, #T_c03cb_row3_col0, #T_c03cb_row3_col1, #T_c03cb_row3_col2, #T_c03cb_row3_col3, #T_c03cb_row3_col4, #T_c03cb_row4_col0, #T_c03cb_row4_col1, #T_c03cb_row4_col2, #T_c03cb_row4_col3, #T_c03cb_row4_col4, #T_c03cb_row5_col0, #T_c03cb_row5_col1, #T_c03cb_row5_col2, #T_c03cb_row5_col3, #T_c03cb_row5_col4, #T_c03cb_row6_col0, #T_c03cb_row6_col1, #T_c03cb_row6_col2, #T_c03cb_row6_col3, #T_c03cb_row6_col4, #T_c03cb_row7_col0, #T_c03cb_row7_col1, #T_c03cb_row7_col2, #T_c03cb_row7_col3, #T_c03cb_row7_col4, #T_c03cb_row8_col0, #T_c03cb_row8_col1, #T_c03cb_row8_col2, #T_c03cb_row8_col3, #T_c03cb_row8_col4, #T_c03cb_row9_col0, #T_c03cb_row9_col1, #T_c03cb_row9_col2, #T_c03cb_row9_col3, #T_c03cb_row9_col4, #T_c03cb_row10_col0, #T_c03cb_row10_col1, #T_c03cb_row10_col2, #T_c03cb_row10_col3, #T_c03cb_row10_col4, #T_c03cb_row11_col0, #T_c03cb_row11_col1, #T_c03cb_row11_col2, #T_c03cb_row11_col3, #T_c03cb_row11_col4, #T_c03cb_row12_col0, #T_c03cb_row12_col1, #T_c03cb_row12_col2, #T_c03cb_row12_col3, #T_c03cb_row12_col4, #T_c03cb_row13_col0, #T_c03cb_row13_col1, #T_c03cb_row13_col2, #T_c03cb_row13_col3, #T_c03cb_row13_col4, #T_c03cb_row14_col0, #T_c03cb_row14_col1, #T_c03cb_row14_col2, #T_c03cb_row14_col3, #T_c03cb_row14_col4, #T_c03cb_row15_col0, #T_c03cb_row15_col1, #T_c03cb_row15_col2, #T_c03cb_row15_col3, #T_c03cb_row15_col4, #T_c03cb_row16_col0, #T_c03cb_row16_col1, #T_c03cb_row16_col2, #T_c03cb_row16_col3, #T_c03cb_row16_col4, #T_c03cb_row17_col0, #T_c03cb_row17_col1, #T_c03cb_row17_col2, #T_c03cb_row17_col3, #T_c03cb_row17_col4, #T_c03cb_row18_col0, #T_c03cb_row18_col1, #T_c03cb_row18_col2, #T_c03cb_row18_col3, #T_c03cb_row18_col4, #T_c03cb_row19_col0, #T_c03cb_row19_col1, #T_c03cb_row19_col2, #T_c03cb_row19_col3, #T_c03cb_row19_col4, #T_c03cb_row20_col0, #T_c03cb_row20_col1, #T_c03cb_row20_col2, #T_c03cb_row20_col3, #T_c03cb_row20_col4, #T_c03cb_row21_col0, #T_c03cb_row21_col1, #T_c03cb_row21_col2, #T_c03cb_row21_col3, #T_c03cb_row21_col4, #T_c03cb_row22_col0, #T_c03cb_row22_col1, #T_c03cb_row22_col2, #T_c03cb_row22_col3, #T_c03cb_row22_col4, #T_c03cb_row23_col0, #T_c03cb_row23_col1, #T_c03cb_row23_col2, #T_c03cb_row23_col3, #T_c03cb_row23_col4, #T_c03cb_row24_col0, #T_c03cb_row24_col1, #T_c03cb_row24_col2, #T_c03cb_row24_col3, #T_c03cb_row24_col4, #T_c03cb_row25_col0, #T_c03cb_row25_col1, #T_c03cb_row25_col2, #T_c03cb_row25_col3, #T_c03cb_row25_col4, #T_c03cb_row26_col0, #T_c03cb_row26_col1, #T_c03cb_row26_col2, #T_c03cb_row26_col3, #T_c03cb_row26_col4, #T_c03cb_row27_col0, #T_c03cb_row27_col1, #T_c03cb_row27_col2, #T_c03cb_row27_col3, #T_c03cb_row27_col4, #T_c03cb_row28_col0, #T_c03cb_row28_col1, #T_c03cb_row28_col2, #T_c03cb_row28_col3, #T_c03cb_row28_col4, #T_c03cb_row29_col0, #T_c03cb_row29_col1, #T_c03cb_row29_col2, #T_c03cb_row29_col3, #T_c03cb_row29_col4 {\n",
       "  text-align: left;\n",
       "  white-space: pre-wrap;\n",
       "  word-wrap: break-word;\n",
       "  max-width: 400px;\n",
       "}\n",
       "</style>\n",
       "<table id=\"T_c03cb\">\n",
       "  <thead>\n",
       "    <tr>\n",
       "      <th class=\"blank level0\" >&nbsp;</th>\n",
       "      <th id=\"T_c03cb_level0_col0\" class=\"col_heading level0 col0\" >question</th>\n",
       "      <th id=\"T_c03cb_level0_col1\" class=\"col_heading level0 col1\" >golden_answer</th>\n",
       "      <th id=\"T_c03cb_level0_col2\" class=\"col_heading level0 col2\" >context</th>\n",
       "      <th id=\"T_c03cb_level0_col3\" class=\"col_heading level0 col3\" >answer</th>\n",
       "      <th id=\"T_c03cb_level0_col4\" class=\"col_heading level0 col4\" >factuality_metric</th>\n",
       "    </tr>\n",
       "  </thead>\n",
       "  <tbody>\n",
       "    <tr>\n",
       "      <th id=\"T_c03cb_level0_row0\" class=\"row_heading level0 row0\" >0</th>\n",
       "      <td id=\"T_c03cb_row0_col0\" class=\"data row0 col0\" >Which NFL team represented the AFC at Super Bowl 50?</td>\n",
       "      <td id=\"T_c03cb_row0_col1\" class=\"data row0 col1\" >Denver Broncos</td>\n",
       "      <td id=\"T_c03cb_row0_col2\" class=\"data row0 col2\" >[{'long_text': 'Super Bowl 50 was an American football game to determine the champion of the National Football League (NFL) for the 2015 season. The American...</td>\n",
       "      <td id=\"T_c03cb_row0_col3\" class=\"data row0 col3\" >The Denver Broncos</td>\n",
       "      <td id=\"T_c03cb_row0_col4\" class=\"data row0 col4\" >1</td>\n",
       "    </tr>\n",
       "    <tr>\n",
       "      <th id=\"T_c03cb_level0_row1\" class=\"row_heading level0 row1\" >1</th>\n",
       "      <td id=\"T_c03cb_row1_col0\" class=\"data row1 col0\" >Which NFL team represented the NFC at Super Bowl 50?</td>\n",
       "      <td id=\"T_c03cb_row1_col1\" class=\"data row1 col1\" >Carolina Panthers</td>\n",
       "      <td id=\"T_c03cb_row1_col2\" class=\"data row1 col2\" >[{'long_text': 'Super Bowl 50 was an American football game to determine the champion of the National Football League (NFL) for the 2015 season. The American...</td>\n",
       "      <td id=\"T_c03cb_row1_col3\" class=\"data row1 col3\" >The Carolina Panthers represented the NFC at Super Bowl 50.</td>\n",
       "      <td id=\"T_c03cb_row1_col4\" class=\"data row1 col4\" >1</td>\n",
       "    </tr>\n",
       "    <tr>\n",
       "      <th id=\"T_c03cb_level0_row2\" class=\"row_heading level0 row2\" >2</th>\n",
       "      <td id=\"T_c03cb_row2_col0\" class=\"data row2 col0\" >Where did Super Bowl 50 take place?</td>\n",
       "      <td id=\"T_c03cb_row2_col1\" class=\"data row2 col1\" >Santa Clara, California</td>\n",
       "      <td id=\"T_c03cb_row2_col2\" class=\"data row2 col2\" >[{'long_text': 'Super Bowl 50 was an American football game to determine the champion of the National Football League (NFL) for the 2015 season. The American...</td>\n",
       "      <td id=\"T_c03cb_row2_col3\" class=\"data row2 col3\" >Super Bowl 50 took place at Levi's Stadium in the San Francisco Bay Area at Santa Clara, California.</td>\n",
       "      <td id=\"T_c03cb_row2_col4\" class=\"data row2 col4\" >1</td>\n",
       "    </tr>\n",
       "    <tr>\n",
       "      <th id=\"T_c03cb_level0_row3\" class=\"row_heading level0 row3\" >3</th>\n",
       "      <td id=\"T_c03cb_row3_col0\" class=\"data row3 col0\" >Which NFL team won Super Bowl 50?</td>\n",
       "      <td id=\"T_c03cb_row3_col1\" class=\"data row3 col1\" >Denver Broncos</td>\n",
       "      <td id=\"T_c03cb_row3_col2\" class=\"data row3 col2\" >[{'long_text': 'Super Bowl 50 was an American football game to determine the champion of the National Football League (NFL) for the 2015 season. The American...</td>\n",
       "      <td id=\"T_c03cb_row3_col3\" class=\"data row3 col3\" >The Denver Broncos won Super Bowl 50.</td>\n",
       "      <td id=\"T_c03cb_row3_col4\" class=\"data row3 col4\" >1</td>\n",
       "    </tr>\n",
       "    <tr>\n",
       "      <th id=\"T_c03cb_level0_row4\" class=\"row_heading level0 row4\" >4</th>\n",
       "      <td id=\"T_c03cb_row4_col0\" class=\"data row4 col0\" >What color was used to emphasize the 50th anniversary of the Super Bowl?</td>\n",
       "      <td id=\"T_c03cb_row4_col1\" class=\"data row4 col1\" >gold</td>\n",
       "      <td id=\"T_c03cb_row4_col2\" class=\"data row4 col2\" >[{'long_text': 'Super Bowl 50 was an American football game to determine the champion of the National Football League (NFL) for the 2015 season. The American...</td>\n",
       "      <td id=\"T_c03cb_row4_col3\" class=\"data row4 col3\" >Gold</td>\n",
       "      <td id=\"T_c03cb_row4_col4\" class=\"data row4 col4\" >1</td>\n",
       "    </tr>\n",
       "    <tr>\n",
       "      <th id=\"T_c03cb_level0_row5\" class=\"row_heading level0 row5\" >5</th>\n",
       "      <td id=\"T_c03cb_row5_col0\" class=\"data row5 col0\" >What was the theme of Super Bowl 50?</td>\n",
       "      <td id=\"T_c03cb_row5_col1\" class=\"data row5 col1\" >\"golden anniversary\"</td>\n",
       "      <td id=\"T_c03cb_row5_col2\" class=\"data row5 col2\" >[{'long_text': 'Super Bowl 50 was an American football game to determine the champion of the National Football League (NFL) for the 2015 season. The American...</td>\n",
       "      <td id=\"T_c03cb_row5_col3\" class=\"data row5 col3\" >The theme of Super Bowl 50 was the \"golden anniversary\".</td>\n",
       "      <td id=\"T_c03cb_row5_col4\" class=\"data row5 col4\" >1</td>\n",
       "    </tr>\n",
       "    <tr>\n",
       "      <th id=\"T_c03cb_level0_row6\" class=\"row_heading level0 row6\" >6</th>\n",
       "      <td id=\"T_c03cb_row6_col0\" class=\"data row6 col0\" >What day was the game played on?</td>\n",
       "      <td id=\"T_c03cb_row6_col1\" class=\"data row6 col1\" >February 7, 2016</td>\n",
       "      <td id=\"T_c03cb_row6_col2\" class=\"data row6 col2\" >[{'long_text': 'Super Bowl 50 was an American football game to determine the champion of the National Football League (NFL) for the 2015 season. The American...</td>\n",
       "      <td id=\"T_c03cb_row6_col3\" class=\"data row6 col3\" >The game was played on February 7, 2016.</td>\n",
       "      <td id=\"T_c03cb_row6_col4\" class=\"data row6 col4\" >1</td>\n",
       "    </tr>\n",
       "    <tr>\n",
       "      <th id=\"T_c03cb_level0_row7\" class=\"row_heading level0 row7\" >7</th>\n",
       "      <td id=\"T_c03cb_row7_col0\" class=\"data row7 col0\" >What is the AFC short for?</td>\n",
       "      <td id=\"T_c03cb_row7_col1\" class=\"data row7 col1\" >American Football Conference</td>\n",
       "      <td id=\"T_c03cb_row7_col2\" class=\"data row7 col2\" >[{'long_text': 'Super Bowl 50 was an American football game to determine the champion of the National Football League (NFL) for the 2015 season. The American...</td>\n",
       "      <td id=\"T_c03cb_row7_col3\" class=\"data row7 col3\" >American Football Conference</td>\n",
       "      <td id=\"T_c03cb_row7_col4\" class=\"data row7 col4\" >1</td>\n",
       "    </tr>\n",
       "    <tr>\n",
       "      <th id=\"T_c03cb_level0_row8\" class=\"row_heading level0 row8\" >8</th>\n",
       "      <td id=\"T_c03cb_row8_col0\" class=\"data row8 col0\" >What was the theme of Super Bowl 50?</td>\n",
       "      <td id=\"T_c03cb_row8_col1\" class=\"data row8 col1\" >\"golden anniversary\"</td>\n",
       "      <td id=\"T_c03cb_row8_col2\" class=\"data row8 col2\" >[{'long_text': 'Super Bowl 50 was an American football game to determine the champion of the National Football League (NFL) for the 2015 season. The American...</td>\n",
       "      <td id=\"T_c03cb_row8_col3\" class=\"data row8 col3\" >The theme of Super Bowl 50 was the \"golden anniversary\".</td>\n",
       "      <td id=\"T_c03cb_row8_col4\" class=\"data row8 col4\" >1</td>\n",
       "    </tr>\n",
       "    <tr>\n",
       "      <th id=\"T_c03cb_level0_row9\" class=\"row_heading level0 row9\" >9</th>\n",
       "      <td id=\"T_c03cb_row9_col0\" class=\"data row9 col0\" >What does AFC stand for?</td>\n",
       "      <td id=\"T_c03cb_row9_col1\" class=\"data row9 col1\" >American Football Conference</td>\n",
       "      <td id=\"T_c03cb_row9_col2\" class=\"data row9 col2\" >[{'long_text': 'Super Bowl 50 was an American football game to determine the champion of the National Football League (NFL) for the 2015 season. The American...</td>\n",
       "      <td id=\"T_c03cb_row9_col3\" class=\"data row9 col3\" >American Football Conference</td>\n",
       "      <td id=\"T_c03cb_row9_col4\" class=\"data row9 col4\" >1</td>\n",
       "    </tr>\n",
       "    <tr>\n",
       "      <th id=\"T_c03cb_level0_row10\" class=\"row_heading level0 row10\" >10</th>\n",
       "      <td id=\"T_c03cb_row10_col0\" class=\"data row10 col0\" >What day was the Super Bowl played on?</td>\n",
       "      <td id=\"T_c03cb_row10_col1\" class=\"data row10 col1\" >February 7, 2016</td>\n",
       "      <td id=\"T_c03cb_row10_col2\" class=\"data row10 col2\" >[{'long_text': 'Super Bowl 50 was an American football game to determine the champion of the National Football League (NFL) for the 2015 season. The American...</td>\n",
       "      <td id=\"T_c03cb_row10_col3\" class=\"data row10 col3\" >February 7, 2016</td>\n",
       "      <td id=\"T_c03cb_row10_col4\" class=\"data row10 col4\" >1</td>\n",
       "    </tr>\n",
       "    <tr>\n",
       "      <th id=\"T_c03cb_level0_row11\" class=\"row_heading level0 row11\" >11</th>\n",
       "      <td id=\"T_c03cb_row11_col0\" class=\"data row11 col0\" >Who won Super Bowl 50?</td>\n",
       "      <td id=\"T_c03cb_row11_col1\" class=\"data row11 col1\" >Denver Broncos</td>\n",
       "      <td id=\"T_c03cb_row11_col2\" class=\"data row11 col2\" >[{'long_text': 'Super Bowl 50 was an American football game to determine the champion of the National Football League (NFL) for the 2015 season. The American...</td>\n",
       "      <td id=\"T_c03cb_row11_col3\" class=\"data row11 col3\" >The Denver Broncos won Super Bowl 50.</td>\n",
       "      <td id=\"T_c03cb_row11_col4\" class=\"data row11 col4\" >1</td>\n",
       "    </tr>\n",
       "    <tr>\n",
       "      <th id=\"T_c03cb_level0_row12\" class=\"row_heading level0 row12\" >12</th>\n",
       "      <td id=\"T_c03cb_row12_col0\" class=\"data row12 col0\" >What venue did Super Bowl 50 take place in?</td>\n",
       "      <td id=\"T_c03cb_row12_col1\" class=\"data row12 col1\" >Levi's Stadium</td>\n",
       "      <td id=\"T_c03cb_row12_col2\" class=\"data row12 col2\" >[{'long_text': 'Super Bowl 50 was an American football game to determine the champion of the National Football League (NFL) for the 2015 season. The American...</td>\n",
       "      <td id=\"T_c03cb_row12_col3\" class=\"data row12 col3\" >Levi's Stadium in the San Francisco Bay Area at Santa Clara, California.</td>\n",
       "      <td id=\"T_c03cb_row12_col4\" class=\"data row12 col4\" >1</td>\n",
       "    </tr>\n",
       "    <tr>\n",
       "      <th id=\"T_c03cb_level0_row13\" class=\"row_heading level0 row13\" >13</th>\n",
       "      <td id=\"T_c03cb_row13_col0\" class=\"data row13 col0\" >What city did Super Bowl 50 take place in?</td>\n",
       "      <td id=\"T_c03cb_row13_col1\" class=\"data row13 col1\" >Santa Clara</td>\n",
       "      <td id=\"T_c03cb_row13_col2\" class=\"data row13 col2\" >[{'long_text': 'Super Bowl 50 was an American football game to determine the champion of the National Football League (NFL) for the 2015 season. The American...</td>\n",
       "      <td id=\"T_c03cb_row13_col3\" class=\"data row13 col3\" >Santa Clara, California</td>\n",
       "      <td id=\"T_c03cb_row13_col4\" class=\"data row13 col4\" >1</td>\n",
       "    </tr>\n",
       "    <tr>\n",
       "      <th id=\"T_c03cb_level0_row14\" class=\"row_heading level0 row14\" >14</th>\n",
       "      <td id=\"T_c03cb_row14_col0\" class=\"data row14 col0\" >If Roman numerals were used, what would Super Bowl 50 have been called?</td>\n",
       "      <td id=\"T_c03cb_row14_col1\" class=\"data row14 col1\" >Super Bowl L</td>\n",
       "      <td id=\"T_c03cb_row14_col2\" class=\"data row14 col2\" >[{'long_text': 'Super Bowl 50 was an American football game to determine the champion of the National Football League (NFL) for the 2015 season. The American...</td>\n",
       "      <td id=\"T_c03cb_row14_col3\" class=\"data row14 col3\" >Super Bowl L</td>\n",
       "      <td id=\"T_c03cb_row14_col4\" class=\"data row14 col4\" >1</td>\n",
       "    </tr>\n",
       "    <tr>\n",
       "      <th id=\"T_c03cb_level0_row15\" class=\"row_heading level0 row15\" >15</th>\n",
       "      <td id=\"T_c03cb_row15_col0\" class=\"data row15 col0\" >Super Bowl 50 decided the NFL champion for what season?</td>\n",
       "      <td id=\"T_c03cb_row15_col1\" class=\"data row15 col1\" >2015</td>\n",
       "      <td id=\"T_c03cb_row15_col2\" class=\"data row15 col2\" >[{'long_text': 'Super Bowl 50 was an American football game to determine the champion of the National Football League (NFL) for the 2015 season. The American...</td>\n",
       "      <td id=\"T_c03cb_row15_col3\" class=\"data row15 col3\" >2015 season</td>\n",
       "      <td id=\"T_c03cb_row15_col4\" class=\"data row15 col4\" >1</td>\n",
       "    </tr>\n",
       "    <tr>\n",
       "      <th id=\"T_c03cb_level0_row16\" class=\"row_heading level0 row16\" >16</th>\n",
       "      <td id=\"T_c03cb_row16_col0\" class=\"data row16 col0\" >What year did the Denver Broncos secure a Super Bowl title for the third time?</td>\n",
       "      <td id=\"T_c03cb_row16_col1\" class=\"data row16 col1\" >2015</td>\n",
       "      <td id=\"T_c03cb_row16_col2\" class=\"data row16 col2\" >[{'long_text': 'Super Bowl 50 was an American football game to determine the champion of the National Football League (NFL) for the 2015 season. The American...</td>\n",
       "      <td id=\"T_c03cb_row16_col3\" class=\"data row16 col3\" >2015</td>\n",
       "      <td id=\"T_c03cb_row16_col4\" class=\"data row16 col4\" >1</td>\n",
       "    </tr>\n",
       "    <tr>\n",
       "      <th id=\"T_c03cb_level0_row17\" class=\"row_heading level0 row17\" >17</th>\n",
       "      <td id=\"T_c03cb_row17_col0\" class=\"data row17 col0\" >What city did Super Bowl 50 take place in?</td>\n",
       "      <td id=\"T_c03cb_row17_col1\" class=\"data row17 col1\" >Santa Clara</td>\n",
       "      <td id=\"T_c03cb_row17_col2\" class=\"data row17 col2\" >[{'long_text': 'Super Bowl 50 was an American football game to determine the champion of the National Football League (NFL) for the 2015 season. The American...</td>\n",
       "      <td id=\"T_c03cb_row17_col3\" class=\"data row17 col3\" >Santa Clara, California</td>\n",
       "      <td id=\"T_c03cb_row17_col4\" class=\"data row17 col4\" >1</td>\n",
       "    </tr>\n",
       "    <tr>\n",
       "      <th id=\"T_c03cb_level0_row18\" class=\"row_heading level0 row18\" >18</th>\n",
       "      <td id=\"T_c03cb_row18_col0\" class=\"data row18 col0\" >What stadium did Super Bowl 50 take place in?</td>\n",
       "      <td id=\"T_c03cb_row18_col1\" class=\"data row18 col1\" >Levi's Stadium</td>\n",
       "      <td id=\"T_c03cb_row18_col2\" class=\"data row18 col2\" >[{'long_text': 'Super Bowl 50 was an American football game to determine the champion of the National Football League (NFL) for the 2015 season. The American...</td>\n",
       "      <td id=\"T_c03cb_row18_col3\" class=\"data row18 col3\" >Levi's Stadium</td>\n",
       "      <td id=\"T_c03cb_row18_col4\" class=\"data row18 col4\" >1</td>\n",
       "    </tr>\n",
       "    <tr>\n",
       "      <th id=\"T_c03cb_level0_row19\" class=\"row_heading level0 row19\" >19</th>\n",
       "      <td id=\"T_c03cb_row19_col0\" class=\"data row19 col0\" >What was the final score of Super Bowl 50? </td>\n",
       "      <td id=\"T_c03cb_row19_col1\" class=\"data row19 col1\" >24–10</td>\n",
       "      <td id=\"T_c03cb_row19_col2\" class=\"data row19 col2\" >[{'long_text': 'Super Bowl 50 was an American football game to determine the champion of the National Football League (NFL) for the 2015 season. The American...</td>\n",
       "      <td id=\"T_c03cb_row19_col3\" class=\"data row19 col3\" >The final score of Super Bowl 50 was 24–10.</td>\n",
       "      <td id=\"T_c03cb_row19_col4\" class=\"data row19 col4\" >1</td>\n",
       "    </tr>\n",
       "    <tr>\n",
       "      <th id=\"T_c03cb_level0_row20\" class=\"row_heading level0 row20\" >20</th>\n",
       "      <td id=\"T_c03cb_row20_col0\" class=\"data row20 col0\" >What month, day and year did Super Bowl 50 take place? </td>\n",
       "      <td id=\"T_c03cb_row20_col1\" class=\"data row20 col1\" >February 7, 2016</td>\n",
       "      <td id=\"T_c03cb_row20_col2\" class=\"data row20 col2\" >[{'long_text': 'Super Bowl 50 was an American football game to determine the champion of the National Football League (NFL) for the 2015 season. The American...</td>\n",
       "      <td id=\"T_c03cb_row20_col3\" class=\"data row20 col3\" >February 7, 2016</td>\n",
       "      <td id=\"T_c03cb_row20_col4\" class=\"data row20 col4\" >1</td>\n",
       "    </tr>\n",
       "    <tr>\n",
       "      <th id=\"T_c03cb_level0_row21\" class=\"row_heading level0 row21\" >21</th>\n",
       "      <td id=\"T_c03cb_row21_col0\" class=\"data row21 col0\" >What year was Super Bowl 50?</td>\n",
       "      <td id=\"T_c03cb_row21_col1\" class=\"data row21 col1\" >2015</td>\n",
       "      <td id=\"T_c03cb_row21_col2\" class=\"data row21 col2\" >[{'long_text': 'Super Bowl 50 was an American football game to determine the champion of the National Football League (NFL) for the 2015 season. The American...</td>\n",
       "      <td id=\"T_c03cb_row21_col3\" class=\"data row21 col3\" >2016</td>\n",
       "      <td id=\"T_c03cb_row21_col4\" class=\"data row21 col4\" >0</td>\n",
       "    </tr>\n",
       "    <tr>\n",
       "      <th id=\"T_c03cb_level0_row22\" class=\"row_heading level0 row22\" >22</th>\n",
       "      <td id=\"T_c03cb_row22_col0\" class=\"data row22 col0\" >What team was the AFC champion?</td>\n",
       "      <td id=\"T_c03cb_row22_col1\" class=\"data row22 col1\" >Denver Broncos</td>\n",
       "      <td id=\"T_c03cb_row22_col2\" class=\"data row22 col2\" >[{'long_text': 'Super Bowl 50 was an American football game to determine the champion of the National Football League (NFL) for the 2015 season. The American...</td>\n",
       "      <td id=\"T_c03cb_row22_col3\" class=\"data row22 col3\" >The Denver Broncos were the AFC champion.</td>\n",
       "      <td id=\"T_c03cb_row22_col4\" class=\"data row22 col4\" >1</td>\n",
       "    </tr>\n",
       "    <tr>\n",
       "      <th id=\"T_c03cb_level0_row23\" class=\"row_heading level0 row23\" >23</th>\n",
       "      <td id=\"T_c03cb_row23_col0\" class=\"data row23 col0\" >What team was the NFC champion?</td>\n",
       "      <td id=\"T_c03cb_row23_col1\" class=\"data row23 col1\" >Carolina Panthers</td>\n",
       "      <td id=\"T_c03cb_row23_col2\" class=\"data row23 col2\" >[{'long_text': 'The Panthers finished the regular season with a 15–1 record, and quarterback Cam Newton was named the NFL Most Valuable Player (MVP). They defeated...</td>\n",
       "      <td id=\"T_c03cb_row23_col3\" class=\"data row23 col3\" >The Panthers were the NFC champion.</td>\n",
       "      <td id=\"T_c03cb_row23_col4\" class=\"data row23 col4\" >1</td>\n",
       "    </tr>\n",
       "    <tr>\n",
       "      <th id=\"T_c03cb_level0_row24\" class=\"row_heading level0 row24\" >24</th>\n",
       "      <td id=\"T_c03cb_row24_col0\" class=\"data row24 col0\" >Who won Super Bowl 50?</td>\n",
       "      <td id=\"T_c03cb_row24_col1\" class=\"data row24 col1\" >Denver Broncos</td>\n",
       "      <td id=\"T_c03cb_row24_col2\" class=\"data row24 col2\" >[{'long_text': 'Super Bowl 50 was an American football game to determine the champion of the National Football League (NFL) for the 2015 season. The American...</td>\n",
       "      <td id=\"T_c03cb_row24_col3\" class=\"data row24 col3\" >The Denver Broncos won Super Bowl 50.</td>\n",
       "      <td id=\"T_c03cb_row24_col4\" class=\"data row24 col4\" >1</td>\n",
       "    </tr>\n",
       "    <tr>\n",
       "      <th id=\"T_c03cb_level0_row25\" class=\"row_heading level0 row25\" >25</th>\n",
       "      <td id=\"T_c03cb_row25_col0\" class=\"data row25 col0\" >Super Bowl 50 determined the NFL champion for what season?</td>\n",
       "      <td id=\"T_c03cb_row25_col1\" class=\"data row25 col1\" >2015</td>\n",
       "      <td id=\"T_c03cb_row25_col2\" class=\"data row25 col2\" >[{'long_text': 'Super Bowl 50 was an American football game to determine the champion of the National Football League (NFL) for the 2015 season. The American...</td>\n",
       "      <td id=\"T_c03cb_row25_col3\" class=\"data row25 col3\" >The 2015 season.</td>\n",
       "      <td id=\"T_c03cb_row25_col4\" class=\"data row25 col4\" >1</td>\n",
       "    </tr>\n",
       "    <tr>\n",
       "      <th id=\"T_c03cb_level0_row26\" class=\"row_heading level0 row26\" >26</th>\n",
       "      <td id=\"T_c03cb_row26_col0\" class=\"data row26 col0\" >Which team won Super Bowl 50.</td>\n",
       "      <td id=\"T_c03cb_row26_col1\" class=\"data row26 col1\" >Denver Broncos</td>\n",
       "      <td id=\"T_c03cb_row26_col2\" class=\"data row26 col2\" >[{'long_text': 'Super Bowl 50 was an American football game to determine the champion of the National Football League (NFL) for the 2015 season. The American...</td>\n",
       "      <td id=\"T_c03cb_row26_col3\" class=\"data row26 col3\" >The Denver Broncos won Super Bowl 50.</td>\n",
       "      <td id=\"T_c03cb_row26_col4\" class=\"data row26 col4\" >1</td>\n",
       "    </tr>\n",
       "    <tr>\n",
       "      <th id=\"T_c03cb_level0_row27\" class=\"row_heading level0 row27\" >27</th>\n",
       "      <td id=\"T_c03cb_row27_col0\" class=\"data row27 col0\" >Where was Super Bowl 50 held?</td>\n",
       "      <td id=\"T_c03cb_row27_col1\" class=\"data row27 col1\" >Santa Clara, California.</td>\n",
       "      <td id=\"T_c03cb_row27_col2\" class=\"data row27 col2\" >[{'long_text': 'Super Bowl 50 was an American football game to determine the champion of the National Football League (NFL) for the 2015 season. The American...</td>\n",
       "      <td id=\"T_c03cb_row27_col3\" class=\"data row27 col3\" >Levi's Stadium in the San Francisco Bay Area at Santa Clara, California.</td>\n",
       "      <td id=\"T_c03cb_row27_col4\" class=\"data row27 col4\" >1</td>\n",
       "    </tr>\n",
       "    <tr>\n",
       "      <th id=\"T_c03cb_level0_row28\" class=\"row_heading level0 row28\" >28</th>\n",
       "      <td id=\"T_c03cb_row28_col0\" class=\"data row28 col0\" >The name of the NFL championship game is?</td>\n",
       "      <td id=\"T_c03cb_row28_col1\" class=\"data row28 col1\" >Super Bowl</td>\n",
       "      <td id=\"T_c03cb_row28_col2\" class=\"data row28 col2\" >[{'long_text': 'Super Bowl 50 was an American football game to determine the champion of the National Football League (NFL) for the 2015 season. The American...</td>\n",
       "      <td id=\"T_c03cb_row28_col3\" class=\"data row28 col3\" >Super Bowl</td>\n",
       "      <td id=\"T_c03cb_row28_col4\" class=\"data row28 col4\" >1</td>\n",
       "    </tr>\n",
       "    <tr>\n",
       "      <th id=\"T_c03cb_level0_row29\" class=\"row_heading level0 row29\" >29</th>\n",
       "      <td id=\"T_c03cb_row29_col0\" class=\"data row29 col0\" >What 2015 NFL team one the AFC playoff?</td>\n",
       "      <td id=\"T_c03cb_row29_col1\" class=\"data row29 col1\" >Denver Broncos</td>\n",
       "      <td id=\"T_c03cb_row29_col2\" class=\"data row29 col2\" >[{'long_text': 'The Panthers finished the regular season with a 15–1 record, and quarterback Cam Newton was named the NFL Most Valuable Player (MVP). They defeated...</td>\n",
       "      <td id=\"T_c03cb_row29_col3\" class=\"data row29 col3\" >The Broncos.</td>\n",
       "      <td id=\"T_c03cb_row29_col4\" class=\"data row29 col4\" >1</td>\n",
       "    </tr>\n",
       "  </tbody>\n",
       "</table>\n"
      ],
      "text/plain": [
       "<pandas.io.formats.style.Styler at 0x29079b640>"
      ]
     },
     "metadata": {},
     "output_type": "display_data"
    },
    {
     "name": "stderr",
     "output_type": "stream",
     "text": [
      "Average Metric: 22 / 30  (73.3): 100%|██████████| 30/30 [00:00<00:00, 425.01it/s]"
     ]
    },
    {
     "name": "stdout",
     "output_type": "stream",
     "text": [
      "Average Metric: 22 / 30  (73.3%)\n"
     ]
    },
    {
     "name": "stderr",
     "output_type": "stream",
     "text": [
      "\n",
      "/Users/mateusz.dolinski/Projects/ml-teaching/.venv/lib/python3.9/site-packages/dspy/evaluate/evaluate.py:187: FutureWarning: DataFrame.applymap has been deprecated. Use DataFrame.map instead.\n",
      "  df = df.applymap(truncate_cell)\n",
      "/Users/mateusz.dolinski/Projects/ml-teaching/.venv/lib/python3.9/site-packages/dspy/evaluate/evaluate.py:263: FutureWarning: Setting an item of incompatible dtype is deprecated and will raise in a future error of pandas. Value '['1' '1' '1' '1' '1' '1' '0' '0' '1' '0' '0' '1' '1' '1' '1' '1' '0' '1'\n",
      " '1' '1' '1' '0' '0' '0' '1' '1' '1' '1' '1' '1']' has dtype incompatible with int64, please explicitly cast to a compatible dtype first.\n",
      "  df.loc[:, metric_name] = df[metric_name].apply(\n"
     ]
    },
    {
     "data": {
      "text/html": [
       "<style type=\"text/css\">\n",
       "#T_92258 th {\n",
       "  text-align: left;\n",
       "}\n",
       "#T_92258 td {\n",
       "  text-align: left;\n",
       "}\n",
       "#T_92258_row0_col0, #T_92258_row0_col1, #T_92258_row0_col2, #T_92258_row0_col3, #T_92258_row1_col0, #T_92258_row1_col1, #T_92258_row1_col2, #T_92258_row1_col3, #T_92258_row2_col0, #T_92258_row2_col1, #T_92258_row2_col2, #T_92258_row2_col3, #T_92258_row3_col0, #T_92258_row3_col1, #T_92258_row3_col2, #T_92258_row3_col3, #T_92258_row4_col0, #T_92258_row4_col1, #T_92258_row4_col2, #T_92258_row4_col3, #T_92258_row5_col0, #T_92258_row5_col1, #T_92258_row5_col2, #T_92258_row5_col3, #T_92258_row6_col0, #T_92258_row6_col1, #T_92258_row6_col2, #T_92258_row6_col3, #T_92258_row7_col0, #T_92258_row7_col1, #T_92258_row7_col2, #T_92258_row7_col3, #T_92258_row8_col0, #T_92258_row8_col1, #T_92258_row8_col2, #T_92258_row8_col3, #T_92258_row9_col0, #T_92258_row9_col1, #T_92258_row9_col2, #T_92258_row9_col3, #T_92258_row10_col0, #T_92258_row10_col1, #T_92258_row10_col2, #T_92258_row10_col3, #T_92258_row11_col0, #T_92258_row11_col1, #T_92258_row11_col2, #T_92258_row11_col3, #T_92258_row12_col0, #T_92258_row12_col1, #T_92258_row12_col2, #T_92258_row12_col3, #T_92258_row13_col0, #T_92258_row13_col1, #T_92258_row13_col2, #T_92258_row13_col3, #T_92258_row14_col0, #T_92258_row14_col1, #T_92258_row14_col2, #T_92258_row14_col3, #T_92258_row15_col0, #T_92258_row15_col1, #T_92258_row15_col2, #T_92258_row15_col3, #T_92258_row16_col0, #T_92258_row16_col1, #T_92258_row16_col2, #T_92258_row16_col3, #T_92258_row17_col0, #T_92258_row17_col1, #T_92258_row17_col2, #T_92258_row17_col3, #T_92258_row18_col0, #T_92258_row18_col1, #T_92258_row18_col2, #T_92258_row18_col3, #T_92258_row19_col0, #T_92258_row19_col1, #T_92258_row19_col2, #T_92258_row19_col3, #T_92258_row20_col0, #T_92258_row20_col1, #T_92258_row20_col2, #T_92258_row20_col3, #T_92258_row21_col0, #T_92258_row21_col1, #T_92258_row21_col2, #T_92258_row21_col3, #T_92258_row22_col0, #T_92258_row22_col1, #T_92258_row22_col2, #T_92258_row22_col3, #T_92258_row23_col0, #T_92258_row23_col1, #T_92258_row23_col2, #T_92258_row23_col3, #T_92258_row24_col0, #T_92258_row24_col1, #T_92258_row24_col2, #T_92258_row24_col3, #T_92258_row25_col0, #T_92258_row25_col1, #T_92258_row25_col2, #T_92258_row25_col3, #T_92258_row26_col0, #T_92258_row26_col1, #T_92258_row26_col2, #T_92258_row26_col3, #T_92258_row27_col0, #T_92258_row27_col1, #T_92258_row27_col2, #T_92258_row27_col3, #T_92258_row28_col0, #T_92258_row28_col1, #T_92258_row28_col2, #T_92258_row28_col3, #T_92258_row29_col0, #T_92258_row29_col1, #T_92258_row29_col2, #T_92258_row29_col3 {\n",
       "  text-align: left;\n",
       "  white-space: pre-wrap;\n",
       "  word-wrap: break-word;\n",
       "  max-width: 400px;\n",
       "}\n",
       "</style>\n",
       "<table id=\"T_92258\">\n",
       "  <thead>\n",
       "    <tr>\n",
       "      <th class=\"blank level0\" >&nbsp;</th>\n",
       "      <th id=\"T_92258_level0_col0\" class=\"col_heading level0 col0\" >question</th>\n",
       "      <th id=\"T_92258_level0_col1\" class=\"col_heading level0 col1\" >golden_answer</th>\n",
       "      <th id=\"T_92258_level0_col2\" class=\"col_heading level0 col2\" >answer</th>\n",
       "      <th id=\"T_92258_level0_col3\" class=\"col_heading level0 col3\" >factuality_metric</th>\n",
       "    </tr>\n",
       "  </thead>\n",
       "  <tbody>\n",
       "    <tr>\n",
       "      <th id=\"T_92258_level0_row0\" class=\"row_heading level0 row0\" >0</th>\n",
       "      <td id=\"T_92258_row0_col0\" class=\"data row0 col0\" >Which NFL team represented the AFC at Super Bowl 50?</td>\n",
       "      <td id=\"T_92258_row0_col1\" class=\"data row0 col1\" >Denver Broncos</td>\n",
       "      <td id=\"T_92258_row0_col2\" class=\"data row0 col2\" >The Denver Broncos represented the AFC at Super Bowl 50.</td>\n",
       "      <td id=\"T_92258_row0_col3\" class=\"data row0 col3\" >1</td>\n",
       "    </tr>\n",
       "    <tr>\n",
       "      <th id=\"T_92258_level0_row1\" class=\"row_heading level0 row1\" >1</th>\n",
       "      <td id=\"T_92258_row1_col0\" class=\"data row1 col0\" >Which NFL team represented the NFC at Super Bowl 50?</td>\n",
       "      <td id=\"T_92258_row1_col1\" class=\"data row1 col1\" >Carolina Panthers</td>\n",
       "      <td id=\"T_92258_row1_col2\" class=\"data row1 col2\" >The Carolina Panthers represented the NFC at Super Bowl 50.</td>\n",
       "      <td id=\"T_92258_row1_col3\" class=\"data row1 col3\" >1</td>\n",
       "    </tr>\n",
       "    <tr>\n",
       "      <th id=\"T_92258_level0_row2\" class=\"row_heading level0 row2\" >2</th>\n",
       "      <td id=\"T_92258_row2_col0\" class=\"data row2 col0\" >Where did Super Bowl 50 take place?</td>\n",
       "      <td id=\"T_92258_row2_col1\" class=\"data row2 col1\" >Santa Clara, California</td>\n",
       "      <td id=\"T_92258_row2_col2\" class=\"data row2 col2\" >Super Bowl 50 took place at Levi's Stadium in Santa Clara, California.</td>\n",
       "      <td id=\"T_92258_row2_col3\" class=\"data row2 col3\" >1</td>\n",
       "    </tr>\n",
       "    <tr>\n",
       "      <th id=\"T_92258_level0_row3\" class=\"row_heading level0 row3\" >3</th>\n",
       "      <td id=\"T_92258_row3_col0\" class=\"data row3 col0\" >Which NFL team won Super Bowl 50?</td>\n",
       "      <td id=\"T_92258_row3_col1\" class=\"data row3 col1\" >Denver Broncos</td>\n",
       "      <td id=\"T_92258_row3_col2\" class=\"data row3 col2\" >The Denver Broncos won Super Bowl 50.</td>\n",
       "      <td id=\"T_92258_row3_col3\" class=\"data row3 col3\" >1</td>\n",
       "    </tr>\n",
       "    <tr>\n",
       "      <th id=\"T_92258_level0_row4\" class=\"row_heading level0 row4\" >4</th>\n",
       "      <td id=\"T_92258_row4_col0\" class=\"data row4 col0\" >What color was used to emphasize the 50th anniversary of the Super Bowl?</td>\n",
       "      <td id=\"T_92258_row4_col1\" class=\"data row4 col1\" >gold</td>\n",
       "      <td id=\"T_92258_row4_col2\" class=\"data row4 col2\" >Gold was used to emphasize the 50th anniversary of the Super Bowl.</td>\n",
       "      <td id=\"T_92258_row4_col3\" class=\"data row4 col3\" >1</td>\n",
       "    </tr>\n",
       "    <tr>\n",
       "      <th id=\"T_92258_level0_row5\" class=\"row_heading level0 row5\" >5</th>\n",
       "      <td id=\"T_92258_row5_col0\" class=\"data row5 col0\" >What was the theme of Super Bowl 50?</td>\n",
       "      <td id=\"T_92258_row5_col1\" class=\"data row5 col1\" >\"golden anniversary\"</td>\n",
       "      <td id=\"T_92258_row5_col2\" class=\"data row5 col2\" >The theme of Super Bowl 50 was \"gold\" to commemorate the game's golden anniversary.</td>\n",
       "      <td id=\"T_92258_row5_col3\" class=\"data row5 col3\" >1</td>\n",
       "    </tr>\n",
       "    <tr>\n",
       "      <th id=\"T_92258_level0_row6\" class=\"row_heading level0 row6\" >6</th>\n",
       "      <td id=\"T_92258_row6_col0\" class=\"data row6 col0\" >What day was the game played on?</td>\n",
       "      <td id=\"T_92258_row6_col1\" class=\"data row6 col1\" >February 7, 2016</td>\n",
       "      <td id=\"T_92258_row6_col2\" class=\"data row6 col2\" >The information provided does not specify the day the game was played on.</td>\n",
       "      <td id=\"T_92258_row6_col3\" class=\"data row6 col3\" >0</td>\n",
       "    </tr>\n",
       "    <tr>\n",
       "      <th id=\"T_92258_level0_row7\" class=\"row_heading level0 row7\" >7</th>\n",
       "      <td id=\"T_92258_row7_col0\" class=\"data row7 col0\" >What is the AFC short for?</td>\n",
       "      <td id=\"T_92258_row7_col1\" class=\"data row7 col1\" >American Football Conference</td>\n",
       "      <td id=\"T_92258_row7_col2\" class=\"data row7 col2\" >AFC stands for Asian Football Confederation.</td>\n",
       "      <td id=\"T_92258_row7_col3\" class=\"data row7 col3\" >0</td>\n",
       "    </tr>\n",
       "    <tr>\n",
       "      <th id=\"T_92258_level0_row8\" class=\"row_heading level0 row8\" >8</th>\n",
       "      <td id=\"T_92258_row8_col0\" class=\"data row8 col0\" >What was the theme of Super Bowl 50?</td>\n",
       "      <td id=\"T_92258_row8_col1\" class=\"data row8 col1\" >\"golden anniversary\"</td>\n",
       "      <td id=\"T_92258_row8_col2\" class=\"data row8 col2\" >The theme of Super Bowl 50 was \"gold\" to commemorate the game's golden anniversary.</td>\n",
       "      <td id=\"T_92258_row8_col3\" class=\"data row8 col3\" >1</td>\n",
       "    </tr>\n",
       "    <tr>\n",
       "      <th id=\"T_92258_level0_row9\" class=\"row_heading level0 row9\" >9</th>\n",
       "      <td id=\"T_92258_row9_col0\" class=\"data row9 col0\" >What does AFC stand for?</td>\n",
       "      <td id=\"T_92258_row9_col1\" class=\"data row9 col1\" >American Football Conference</td>\n",
       "      <td id=\"T_92258_row9_col2\" class=\"data row9 col2\" >AFC stands for Asian Football Confederation.</td>\n",
       "      <td id=\"T_92258_row9_col3\" class=\"data row9 col3\" >0</td>\n",
       "    </tr>\n",
       "    <tr>\n",
       "      <th id=\"T_92258_level0_row10\" class=\"row_heading level0 row10\" >10</th>\n",
       "      <td id=\"T_92258_row10_col0\" class=\"data row10 col0\" >What day was the Super Bowl played on?</td>\n",
       "      <td id=\"T_92258_row10_col1\" class=\"data row10 col1\" >February 7, 2016</td>\n",
       "      <td id=\"T_92258_row10_col2\" class=\"data row10 col2\" >The Super Bowl is typically played on the first Sunday in February.</td>\n",
       "      <td id=\"T_92258_row10_col3\" class=\"data row10 col3\" >0</td>\n",
       "    </tr>\n",
       "    <tr>\n",
       "      <th id=\"T_92258_level0_row11\" class=\"row_heading level0 row11\" >11</th>\n",
       "      <td id=\"T_92258_row11_col0\" class=\"data row11 col0\" >Who won Super Bowl 50?</td>\n",
       "      <td id=\"T_92258_row11_col1\" class=\"data row11 col1\" >Denver Broncos</td>\n",
       "      <td id=\"T_92258_row11_col2\" class=\"data row11 col2\" >The Denver Broncos won Super Bowl 50.</td>\n",
       "      <td id=\"T_92258_row11_col3\" class=\"data row11 col3\" >1</td>\n",
       "    </tr>\n",
       "    <tr>\n",
       "      <th id=\"T_92258_level0_row12\" class=\"row_heading level0 row12\" >12</th>\n",
       "      <td id=\"T_92258_row12_col0\" class=\"data row12 col0\" >What venue did Super Bowl 50 take place in?</td>\n",
       "      <td id=\"T_92258_row12_col1\" class=\"data row12 col1\" >Levi's Stadium</td>\n",
       "      <td id=\"T_92258_row12_col2\" class=\"data row12 col2\" >Super Bowl 50 took place at Levi's Stadium in Santa Clara, California.</td>\n",
       "      <td id=\"T_92258_row12_col3\" class=\"data row12 col3\" >1</td>\n",
       "    </tr>\n",
       "    <tr>\n",
       "      <th id=\"T_92258_level0_row13\" class=\"row_heading level0 row13\" >13</th>\n",
       "      <td id=\"T_92258_row13_col0\" class=\"data row13 col0\" >What city did Super Bowl 50 take place in?</td>\n",
       "      <td id=\"T_92258_row13_col1\" class=\"data row13 col1\" >Santa Clara</td>\n",
       "      <td id=\"T_92258_row13_col2\" class=\"data row13 col2\" >Super Bowl 50 took place in Santa Clara, California.</td>\n",
       "      <td id=\"T_92258_row13_col3\" class=\"data row13 col3\" >1</td>\n",
       "    </tr>\n",
       "    <tr>\n",
       "      <th id=\"T_92258_level0_row14\" class=\"row_heading level0 row14\" >14</th>\n",
       "      <td id=\"T_92258_row14_col0\" class=\"data row14 col0\" >If Roman numerals were used, what would Super Bowl 50 have been called?</td>\n",
       "      <td id=\"T_92258_row14_col1\" class=\"data row14 col1\" >Super Bowl L</td>\n",
       "      <td id=\"T_92258_row14_col2\" class=\"data row14 col2\" >Super Bowl L</td>\n",
       "      <td id=\"T_92258_row14_col3\" class=\"data row14 col3\" >1</td>\n",
       "    </tr>\n",
       "    <tr>\n",
       "      <th id=\"T_92258_level0_row15\" class=\"row_heading level0 row15\" >15</th>\n",
       "      <td id=\"T_92258_row15_col0\" class=\"data row15 col0\" >Super Bowl 50 decided the NFL champion for what season?</td>\n",
       "      <td id=\"T_92258_row15_col1\" class=\"data row15 col1\" >2015</td>\n",
       "      <td id=\"T_92258_row15_col2\" class=\"data row15 col2\" >The 2015 season.</td>\n",
       "      <td id=\"T_92258_row15_col3\" class=\"data row15 col3\" >1</td>\n",
       "    </tr>\n",
       "    <tr>\n",
       "      <th id=\"T_92258_level0_row16\" class=\"row_heading level0 row16\" >16</th>\n",
       "      <td id=\"T_92258_row16_col0\" class=\"data row16 col0\" >What year did the Denver Broncos secure a Super Bowl title for the third time?</td>\n",
       "      <td id=\"T_92258_row16_col1\" class=\"data row16 col1\" >2015</td>\n",
       "      <td id=\"T_92258_row16_col2\" class=\"data row16 col2\" >The Denver Broncos secured a Super Bowl title for the third time in 2016.</td>\n",
       "      <td id=\"T_92258_row16_col3\" class=\"data row16 col3\" >0</td>\n",
       "    </tr>\n",
       "    <tr>\n",
       "      <th id=\"T_92258_level0_row17\" class=\"row_heading level0 row17\" >17</th>\n",
       "      <td id=\"T_92258_row17_col0\" class=\"data row17 col0\" >What city did Super Bowl 50 take place in?</td>\n",
       "      <td id=\"T_92258_row17_col1\" class=\"data row17 col1\" >Santa Clara</td>\n",
       "      <td id=\"T_92258_row17_col2\" class=\"data row17 col2\" >Super Bowl 50 took place in Santa Clara, California.</td>\n",
       "      <td id=\"T_92258_row17_col3\" class=\"data row17 col3\" >1</td>\n",
       "    </tr>\n",
       "    <tr>\n",
       "      <th id=\"T_92258_level0_row18\" class=\"row_heading level0 row18\" >18</th>\n",
       "      <td id=\"T_92258_row18_col0\" class=\"data row18 col0\" >What stadium did Super Bowl 50 take place in?</td>\n",
       "      <td id=\"T_92258_row18_col1\" class=\"data row18 col1\" >Levi's Stadium</td>\n",
       "      <td id=\"T_92258_row18_col2\" class=\"data row18 col2\" >Super Bowl 50 took place in Levi's Stadium.</td>\n",
       "      <td id=\"T_92258_row18_col3\" class=\"data row18 col3\" >1</td>\n",
       "    </tr>\n",
       "    <tr>\n",
       "      <th id=\"T_92258_level0_row19\" class=\"row_heading level0 row19\" >19</th>\n",
       "      <td id=\"T_92258_row19_col0\" class=\"data row19 col0\" >What was the final score of Super Bowl 50? </td>\n",
       "      <td id=\"T_92258_row19_col1\" class=\"data row19 col1\" >24–10</td>\n",
       "      <td id=\"T_92258_row19_col2\" class=\"data row19 col2\" >The final score of Super Bowl 50 was 24-10, with the Denver Broncos defeating the Carolina Panthers.</td>\n",
       "      <td id=\"T_92258_row19_col3\" class=\"data row19 col3\" >1</td>\n",
       "    </tr>\n",
       "    <tr>\n",
       "      <th id=\"T_92258_level0_row20\" class=\"row_heading level0 row20\" >20</th>\n",
       "      <td id=\"T_92258_row20_col0\" class=\"data row20 col0\" >What month, day and year did Super Bowl 50 take place? </td>\n",
       "      <td id=\"T_92258_row20_col1\" class=\"data row20 col1\" >February 7, 2016</td>\n",
       "      <td id=\"T_92258_row20_col2\" class=\"data row20 col2\" >Super Bowl 50 took place on February 7, 2016.</td>\n",
       "      <td id=\"T_92258_row20_col3\" class=\"data row20 col3\" >1</td>\n",
       "    </tr>\n",
       "    <tr>\n",
       "      <th id=\"T_92258_level0_row21\" class=\"row_heading level0 row21\" >21</th>\n",
       "      <td id=\"T_92258_row21_col0\" class=\"data row21 col0\" >What year was Super Bowl 50?</td>\n",
       "      <td id=\"T_92258_row21_col1\" class=\"data row21 col1\" >2015</td>\n",
       "      <td id=\"T_92258_row21_col2\" class=\"data row21 col2\" >Super Bowl 50 was in the year 2016.</td>\n",
       "      <td id=\"T_92258_row21_col3\" class=\"data row21 col3\" >0</td>\n",
       "    </tr>\n",
       "    <tr>\n",
       "      <th id=\"T_92258_level0_row22\" class=\"row_heading level0 row22\" >22</th>\n",
       "      <td id=\"T_92258_row22_col0\" class=\"data row22 col0\" >What team was the AFC champion?</td>\n",
       "      <td id=\"T_92258_row22_col1\" class=\"data row22 col1\" >Denver Broncos</td>\n",
       "      <td id=\"T_92258_row22_col2\" class=\"data row22 col2\" >The answer depends on the year in question as the AFC champion changes annually. As of the 2020 NFL season, the Kansas City Chiefs were...</td>\n",
       "      <td id=\"T_92258_row22_col3\" class=\"data row22 col3\" >0</td>\n",
       "    </tr>\n",
       "    <tr>\n",
       "      <th id=\"T_92258_level0_row23\" class=\"row_heading level0 row23\" >23</th>\n",
       "      <td id=\"T_92258_row23_col0\" class=\"data row23 col0\" >What team was the NFC champion?</td>\n",
       "      <td id=\"T_92258_row23_col1\" class=\"data row23 col1\" >Carolina Panthers</td>\n",
       "      <td id=\"T_92258_row23_col2\" class=\"data row23 col2\" >The answer depends on the specific year in question as the NFC champion changes annually.</td>\n",
       "      <td id=\"T_92258_row23_col3\" class=\"data row23 col3\" >0</td>\n",
       "    </tr>\n",
       "    <tr>\n",
       "      <th id=\"T_92258_level0_row24\" class=\"row_heading level0 row24\" >24</th>\n",
       "      <td id=\"T_92258_row24_col0\" class=\"data row24 col0\" >Who won Super Bowl 50?</td>\n",
       "      <td id=\"T_92258_row24_col1\" class=\"data row24 col1\" >Denver Broncos</td>\n",
       "      <td id=\"T_92258_row24_col2\" class=\"data row24 col2\" >The Denver Broncos won Super Bowl 50.</td>\n",
       "      <td id=\"T_92258_row24_col3\" class=\"data row24 col3\" >1</td>\n",
       "    </tr>\n",
       "    <tr>\n",
       "      <th id=\"T_92258_level0_row25\" class=\"row_heading level0 row25\" >25</th>\n",
       "      <td id=\"T_92258_row25_col0\" class=\"data row25 col0\" >Super Bowl 50 determined the NFL champion for what season?</td>\n",
       "      <td id=\"T_92258_row25_col1\" class=\"data row25 col1\" >2015</td>\n",
       "      <td id=\"T_92258_row25_col2\" class=\"data row25 col2\" >The 2015 season.</td>\n",
       "      <td id=\"T_92258_row25_col3\" class=\"data row25 col3\" >1</td>\n",
       "    </tr>\n",
       "    <tr>\n",
       "      <th id=\"T_92258_level0_row26\" class=\"row_heading level0 row26\" >26</th>\n",
       "      <td id=\"T_92258_row26_col0\" class=\"data row26 col0\" >Which team won Super Bowl 50.</td>\n",
       "      <td id=\"T_92258_row26_col1\" class=\"data row26 col1\" >Denver Broncos</td>\n",
       "      <td id=\"T_92258_row26_col2\" class=\"data row26 col2\" >The Denver Broncos won Super Bowl 50.</td>\n",
       "      <td id=\"T_92258_row26_col3\" class=\"data row26 col3\" >1</td>\n",
       "    </tr>\n",
       "    <tr>\n",
       "      <th id=\"T_92258_level0_row27\" class=\"row_heading level0 row27\" >27</th>\n",
       "      <td id=\"T_92258_row27_col0\" class=\"data row27 col0\" >Where was Super Bowl 50 held?</td>\n",
       "      <td id=\"T_92258_row27_col1\" class=\"data row27 col1\" >Santa Clara, California.</td>\n",
       "      <td id=\"T_92258_row27_col2\" class=\"data row27 col2\" >Super Bowl 50 was held at Levi's Stadium in Santa Clara, California.</td>\n",
       "      <td id=\"T_92258_row27_col3\" class=\"data row27 col3\" >1</td>\n",
       "    </tr>\n",
       "    <tr>\n",
       "      <th id=\"T_92258_level0_row28\" class=\"row_heading level0 row28\" >28</th>\n",
       "      <td id=\"T_92258_row28_col0\" class=\"data row28 col0\" >The name of the NFL championship game is?</td>\n",
       "      <td id=\"T_92258_row28_col1\" class=\"data row28 col1\" >Super Bowl</td>\n",
       "      <td id=\"T_92258_row28_col2\" class=\"data row28 col2\" >The name of the NFL championship game is the Super Bowl.</td>\n",
       "      <td id=\"T_92258_row28_col3\" class=\"data row28 col3\" >1</td>\n",
       "    </tr>\n",
       "    <tr>\n",
       "      <th id=\"T_92258_level0_row29\" class=\"row_heading level0 row29\" >29</th>\n",
       "      <td id=\"T_92258_row29_col0\" class=\"data row29 col0\" >What 2015 NFL team one the AFC playoff?</td>\n",
       "      <td id=\"T_92258_row29_col1\" class=\"data row29 col1\" >Denver Broncos</td>\n",
       "      <td id=\"T_92258_row29_col2\" class=\"data row29 col2\" >The Denver Broncos won the AFC playoff in 2015.</td>\n",
       "      <td id=\"T_92258_row29_col3\" class=\"data row29 col3\" >1</td>\n",
       "    </tr>\n",
       "  </tbody>\n",
       "</table>\n"
      ],
      "text/plain": [
       "<pandas.io.formats.style.Styler at 0x1574e5100>"
      ]
     },
     "metadata": {},
     "output_type": "display_data"
    }
   ],
   "source": [
    "with context(lm=gpt4):\n",
    "    evaluate_pipeline = Evaluate(\n",
    "        devset=devset,\n",
    "        metric=factuality_metric,\n",
    "        num_threads=1,\n",
    "        display_progress=True,\n",
    "        display_table=100,\n",
    "    )\n",
    "    results_rag = evaluate_pipeline(rag_pipeline)\n",
    "    results_qa = evaluate_pipeline(qa_pipeline)"
   ]
  },
  {
   "cell_type": "code",
   "execution_count": 18,
   "metadata": {},
   "outputs": [
    {
     "data": {
      "text/plain": [
       "73.33"
      ]
     },
     "execution_count": 18,
     "metadata": {},
     "output_type": "execute_result"
    }
   ],
   "source": [
    "results_qa"
   ]
  },
  {
   "cell_type": "code",
   "execution_count": 19,
   "metadata": {},
   "outputs": [
    {
     "data": {
      "text/plain": [
       "96.67"
      ]
     },
     "execution_count": 19,
     "metadata": {},
     "output_type": "execute_result"
    }
   ],
   "source": [
    "results_rag"
   ]
  },
  {
   "cell_type": "code",
   "execution_count": null,
   "metadata": {},
   "outputs": [],
   "source": []
  }
 ],
 "metadata": {
  "kernelspec": {
   "display_name": ".venv",
   "language": "python",
   "name": "python3"
  },
  "language_info": {
   "codemirror_mode": {
    "name": "ipython",
    "version": 3
   },
   "file_extension": ".py",
   "mimetype": "text/x-python",
   "name": "python",
   "nbconvert_exporter": "python",
   "pygments_lexer": "ipython3",
   "version": "3.9.13"
  }
 },
 "nbformat": 4,
 "nbformat_minor": 2
}
